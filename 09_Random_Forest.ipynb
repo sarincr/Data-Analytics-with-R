{
  "nbformat": 4,
  "nbformat_minor": 0,
  "metadata": {
    "colab": {
      "name": "09.Random Forest.ipynb",
      "provenance": []
    },
    "kernelspec": {
      "name": "ir",
      "display_name": "R"
    },
    "language_info": {
      "name": "R"
    }
  },
  "cells": [
    {
      "cell_type": "code",
      "metadata": {
        "id": "WA9DSra13zDT"
      },
      "source": [
        "dataset = read.csv('Data.csv')\n",
        "dataset = dataset[2:3]"
      ],
      "execution_count": 1,
      "outputs": []
    },
    {
      "cell_type": "code",
      "metadata": {
        "colab": {
          "base_uri": "https://localhost:8080/"
        },
        "id": "WyJsfvWO4jEh",
        "outputId": "c9d7ed49-6974-4cdb-8bd8-35caf05220d6"
      },
      "source": [
        "install.packages('randomForest')   \n",
        "install.packages('ggplot2')\n",
        "library(randomForest)\n",
        "library(ggplot2)\n",
        "install.packages(\"rpart\")\n",
        "library(rpart)"
      ],
      "execution_count": 2,
      "outputs": [
        {
          "output_type": "stream",
          "text": [
            "Installing package into ‘/usr/local/lib/R/site-library’\n",
            "(as ‘lib’ is unspecified)\n",
            "\n",
            "Installing package into ‘/usr/local/lib/R/site-library’\n",
            "(as ‘lib’ is unspecified)\n",
            "\n",
            "randomForest 4.6-14\n",
            "\n",
            "Type rfNews() to see new features/changes/bug fixes.\n",
            "\n",
            "\n",
            "Attaching package: ‘ggplot2’\n",
            "\n",
            "\n",
            "The following object is masked from ‘package:randomForest’:\n",
            "\n",
            "    margin\n",
            "\n",
            "\n",
            "Installing package into ‘/usr/local/lib/R/site-library’\n",
            "(as ‘lib’ is unspecified)\n",
            "\n",
            "Warning message in install.packages(\"rpart\"):\n",
            "“installation of package ‘rpart’ had non-zero exit status”\n"
          ],
          "name": "stderr"
        }
      ]
    },
    {
      "cell_type": "code",
      "metadata": {
        "colab": {
          "base_uri": "https://localhost:8080/"
        },
        "id": "auKZyzSZ5HS5",
        "outputId": "211af0be-9547-4831-b29a-48035aafa24a"
      },
      "source": [
        "regressor <-rpart(formula = Salary ~., data = dataset, control = rpart.control(minsplit = 1))\n",
        "summary(regressor)"
      ],
      "execution_count": 3,
      "outputs": [
        {
          "output_type": "stream",
          "text": [
            "Call:\n",
            "rpart(formula = Salary ~ ., data = dataset, control = rpart.control(minsplit = 1))\n",
            "  n= 10 \n",
            "\n",
            "          CP nsplit  rel error   xerror      xstd\n",
            "1 0.77638626      0 1.00000000 1.234568 0.7835133\n",
            "2 0.15496716      1 0.22361374 1.220478 0.7855722\n",
            "3 0.05217357      2 0.06864658 1.220478 0.7855722\n",
            "4 0.01000000      3 0.01647301 1.220478 0.7855722\n",
            "\n",
            "Variable importance\n",
            "Level \n",
            "  100 \n",
            "\n",
            "Node number 1: 10 observations,    complexity param=0.7763863\n",
            "  mean=249500, MSE=8.066225e+10 \n",
            "  left son=2 (8 obs) right son=3 (2 obs)\n",
            "  Primary splits:\n",
            "      Level < 8.5 to the left,  improve=0.7763863, (0 missing)\n",
            "\n",
            "Node number 2: 8 observations,    complexity param=0.05217357\n",
            "  mean=124375, MSE=6.921484e+09 \n",
            "  left son=4 (6 obs) right son=5 (2 obs)\n",
            "  Primary splits:\n",
            "      Level < 6.5 to the left,  improve=0.7600316, (0 missing)\n",
            "\n",
            "Node number 3: 2 observations,    complexity param=0.1549672\n",
            "  mean=750000, MSE=6.25e+10 \n",
            "  left son=6 (1 obs) right son=7 (1 obs)\n",
            "  Primary splits:\n",
            "      Level < 9.5 to the left,  improve=1, (0 missing)\n",
            "\n",
            "Node number 4: 6 observations\n",
            "  mean=82500, MSE=1.38125e+09 \n",
            "\n",
            "Node number 5: 2 observations\n",
            "  mean=250000, MSE=2.5e+09 \n",
            "\n",
            "Node number 6: 1 observations\n",
            "  mean=500000, MSE=0 \n",
            "\n",
            "Node number 7: 1 observations\n",
            "  mean=1000000, MSE=0 \n",
            "\n"
          ],
          "name": "stdout"
        }
      ]
    },
    {
      "cell_type": "code",
      "metadata": {
        "colab": {
          "base_uri": "https://localhost:8080/",
          "height": 34
        },
        "id": "_dyTo9xR4Rrc",
        "outputId": "6f0efef4-96ec-46f7-e73c-3cbf5a40803e"
      },
      "source": [
        "y_pred <-  predict(regressor, data.frame(Level = 6.5))\n",
        "y_pred"
      ],
      "execution_count": 4,
      "outputs": [
        {
          "output_type": "display_data",
          "data": {
            "text/plain": [
              "     1 \n",
              "250000 "
            ],
            "text/latex": "\\textbf{1:} 250000",
            "text/markdown": "**1:** 250000",
            "text/html": [
              "<strong>1:</strong> 250000"
            ]
          },
          "metadata": {
            "tags": []
          }
        }
      ]
    },
    {
      "cell_type": "code",
      "metadata": {
        "colab": {
          "base_uri": "https://localhost:8080/",
          "height": 437
        },
        "id": "yGwaTsw66BQn",
        "outputId": "43646555-23e1-40d1-fd92-b8e8962ef5e6"
      },
      "source": [
        "ggplot() +\n",
        "  geom_point(aes(x = dataset$Level, y = dataset$Salary), colour = \"red\") +\n",
        "  geom_line(aes(x = dataset$Level, y = predict(regressor, newdata = dataset)), colour = \"blue\")+\n",
        "  ggtitle(\"Random Forest\") +\n",
        "  xlab(\"Levels\") +\n",
        "  ylab(\"Salary\")"
      ],
      "execution_count": 5,
      "outputs": [
        {
          "output_type": "display_data",
          "data": {
            "image/png": "[encoded data removed]",
            "text/plain": [
              "plot without title"
            ]
          },
          "metadata": {
            "tags": [],
            "image/png": {
              "width": 420,
              "height": 420
            }
          }
        }
      ]
    },
    {
      "cell_type": "code",
      "metadata": {
        "id": "GUL-2x1D6EMZ"
      },
      "source": [
        ""
      ],
      "execution_count": 6,
      "outputs": []
    }
  ]
}