{
 "cells": [
  {
   "cell_type": "code",
   "execution_count": 1,
   "metadata": {},
   "outputs": [],
   "source": [
    "x <- c(1:100)"
   ]
  },
  {
   "cell_type": "code",
   "execution_count": 2,
   "metadata": {},
   "outputs": [
    {
     "data": {
      "text/html": [
       "<style>\n",
       ".list-inline {list-style: none; margin:0; padding: 0}\n",
       ".list-inline>li {display: inline-block}\n",
       ".list-inline>li:not(:last-child)::after {content: \"\\00b7\"; padding: 0 .5ex}\n",
       "</style>\n",
       "<ol class=list-inline><li>1</li><li>2</li><li>3</li><li>4</li><li>5</li><li>6</li><li>7</li><li>8</li><li>9</li><li>10</li><li>11</li><li>12</li><li>13</li><li>14</li><li>15</li><li>16</li><li>17</li><li>18</li><li>19</li><li>20</li><li>21</li><li>22</li><li>23</li><li>24</li><li>25</li><li>26</li><li>27</li><li>28</li><li>29</li><li>30</li><li>31</li><li>32</li><li>33</li><li>34</li><li>35</li><li>36</li><li>37</li><li>38</li><li>39</li><li>40</li><li>41</li><li>42</li><li>43</li><li>44</li><li>45</li><li>46</li><li>47</li><li>48</li><li>49</li><li>50</li><li>51</li><li>52</li><li>53</li><li>54</li><li>55</li><li>56</li><li>57</li><li>58</li><li>59</li><li>60</li><li>61</li><li>62</li><li>63</li><li>64</li><li>65</li><li>66</li><li>67</li><li>68</li><li>69</li><li>70</li><li>71</li><li>72</li><li>73</li><li>74</li><li>75</li><li>76</li><li>77</li><li>78</li><li>79</li><li>80</li><li>81</li><li>82</li><li>83</li><li>84</li><li>85</li><li>86</li><li>87</li><li>88</li><li>89</li><li>90</li><li>91</li><li>92</li><li>93</li><li>94</li><li>95</li><li>96</li><li>97</li><li>98</li><li>99</li><li>100</li></ol>\n"
      ],
      "text/latex": [
       "\\begin{enumerate*}\n",
       "\\item 1\n",
       "\\item 2\n",
       "\\item 3\n",
       "\\item 4\n",
       "\\item 5\n",
       "\\item 6\n",
       "\\item 7\n",
       "\\item 8\n",
       "\\item 9\n",
       "\\item 10\n",
       "\\item 11\n",
       "\\item 12\n",
       "\\item 13\n",
       "\\item 14\n",
       "\\item 15\n",
       "\\item 16\n",
       "\\item 17\n",
       "\\item 18\n",
       "\\item 19\n",
       "\\item 20\n",
       "\\item 21\n",
       "\\item 22\n",
       "\\item 23\n",
       "\\item 24\n",
       "\\item 25\n",
       "\\item 26\n",
       "\\item 27\n",
       "\\item 28\n",
       "\\item 29\n",
       "\\item 30\n",
       "\\item 31\n",
       "\\item 32\n",
       "\\item 33\n",
       "\\item 34\n",
       "\\item 35\n",
       "\\item 36\n",
       "\\item 37\n",
       "\\item 38\n",
       "\\item 39\n",
       "\\item 40\n",
       "\\item 41\n",
       "\\item 42\n",
       "\\item 43\n",
       "\\item 44\n",
       "\\item 45\n",
       "\\item 46\n",
       "\\item 47\n",
       "\\item 48\n",
       "\\item 49\n",
       "\\item 50\n",
       "\\item 51\n",
       "\\item 52\n",
       "\\item 53\n",
       "\\item 54\n",
       "\\item 55\n",
       "\\item 56\n",
       "\\item 57\n",
       "\\item 58\n",
       "\\item 59\n",
       "\\item 60\n",
       "\\item 61\n",
       "\\item 62\n",
       "\\item 63\n",
       "\\item 64\n",
       "\\item 65\n",
       "\\item 66\n",
       "\\item 67\n",
       "\\item 68\n",
       "\\item 69\n",
       "\\item 70\n",
       "\\item 71\n",
       "\\item 72\n",
       "\\item 73\n",
       "\\item 74\n",
       "\\item 75\n",
       "\\item 76\n",
       "\\item 77\n",
       "\\item 78\n",
       "\\item 79\n",
       "\\item 80\n",
       "\\item 81\n",
       "\\item 82\n",
       "\\item 83\n",
       "\\item 84\n",
       "\\item 85\n",
       "\\item 86\n",
       "\\item 87\n",
       "\\item 88\n",
       "\\item 89\n",
       "\\item 90\n",
       "\\item 91\n",
       "\\item 92\n",
       "\\item 93\n",
       "\\item 94\n",
       "\\item 95\n",
       "\\item 96\n",
       "\\item 97\n",
       "\\item 98\n",
       "\\item 99\n",
       "\\item 100\n",
       "\\end{enumerate*}\n"
      ],
      "text/markdown": [
       "1. 1\n",
       "2. 2\n",
       "3. 3\n",
       "4. 4\n",
       "5. 5\n",
       "6. 6\n",
       "7. 7\n",
       "8. 8\n",
       "9. 9\n",
       "10. 10\n",
       "11. 11\n",
       "12. 12\n",
       "13. 13\n",
       "14. 14\n",
       "15. 15\n",
       "16. 16\n",
       "17. 17\n",
       "18. 18\n",
       "19. 19\n",
       "20. 20\n",
       "21. 21\n",
       "22. 22\n",
       "23. 23\n",
       "24. 24\n",
       "25. 25\n",
       "26. 26\n",
       "27. 27\n",
       "28. 28\n",
       "29. 29\n",
       "30. 30\n",
       "31. 31\n",
       "32. 32\n",
       "33. 33\n",
       "34. 34\n",
       "35. 35\n",
       "36. 36\n",
       "37. 37\n",
       "38. 38\n",
       "39. 39\n",
       "40. 40\n",
       "41. 41\n",
       "42. 42\n",
       "43. 43\n",
       "44. 44\n",
       "45. 45\n",
       "46. 46\n",
       "47. 47\n",
       "48. 48\n",
       "49. 49\n",
       "50. 50\n",
       "51. 51\n",
       "52. 52\n",
       "53. 53\n",
       "54. 54\n",
       "55. 55\n",
       "56. 56\n",
       "57. 57\n",
       "58. 58\n",
       "59. 59\n",
       "60. 60\n",
       "61. 61\n",
       "62. 62\n",
       "63. 63\n",
       "64. 64\n",
       "65. 65\n",
       "66. 66\n",
       "67. 67\n",
       "68. 68\n",
       "69. 69\n",
       "70. 70\n",
       "71. 71\n",
       "72. 72\n",
       "73. 73\n",
       "74. 74\n",
       "75. 75\n",
       "76. 76\n",
       "77. 77\n",
       "78. 78\n",
       "79. 79\n",
       "80. 80\n",
       "81. 81\n",
       "82. 82\n",
       "83. 83\n",
       "84. 84\n",
       "85. 85\n",
       "86. 86\n",
       "87. 87\n",
       "88. 88\n",
       "89. 89\n",
       "90. 90\n",
       "91. 91\n",
       "92. 92\n",
       "93. 93\n",
       "94. 94\n",
       "95. 95\n",
       "96. 96\n",
       "97. 97\n",
       "98. 98\n",
       "99. 99\n",
       "100. 100\n",
       "\n",
       "\n"
      ],
      "text/plain": [
       "  [1]   1   2   3   4   5   6   7   8   9  10  11  12  13  14  15  16  17  18\n",
       " [19]  19  20  21  22  23  24  25  26  27  28  29  30  31  32  33  34  35  36\n",
       " [37]  37  38  39  40  41  42  43  44  45  46  47  48  49  50  51  52  53  54\n",
       " [55]  55  56  57  58  59  60  61  62  63  64  65  66  67  68  69  70  71  72\n",
       " [73]  73  74  75  76  77  78  79  80  81  82  83  84  85  86  87  88  89  90\n",
       " [91]  91  92  93  94  95  96  97  98  99 100"
      ]
     },
     "metadata": {},
     "output_type": "display_data"
    }
   ],
   "source": [
    "x"
   ]
  },
  {
   "cell_type": "code",
   "execution_count": 3,
   "metadata": {},
   "outputs": [
    {
     "data": {
      "text/html": [
       "37.065"
      ],
      "text/latex": [
       "37.065"
      ],
      "text/markdown": [
       "37.065"
      ],
      "text/plain": [
       "[1] 37.065"
      ]
     },
     "metadata": {},
     "output_type": "display_data"
    }
   ],
   "source": [
    "mad(x)"
   ]
  },
  {
   "cell_type": "code",
   "execution_count": 4,
   "metadata": {},
   "outputs": [
    {
     "data": {
      "text/html": [
       "50.5"
      ],
      "text/latex": [
       "50.5"
      ],
      "text/markdown": [
       "50.5"
      ],
      "text/plain": [
       "[1] 50.5"
      ]
     },
     "metadata": {},
     "output_type": "display_data"
    }
   ],
   "source": [
    "mean(x)"
   ]
  },
  {
   "cell_type": "code",
   "execution_count": 5,
   "metadata": {},
   "outputs": [
    {
     "data": {
      "text/html": [
       "5050"
      ],
      "text/latex": [
       "5050"
      ],
      "text/markdown": [
       "5050"
      ],
      "text/plain": [
       "[1] 5050"
      ]
     },
     "metadata": {},
     "output_type": "display_data"
    }
   ],
   "source": [
    "sum(x)"
   ]
  },
  {
   "cell_type": "code",
   "execution_count": 6,
   "metadata": {},
   "outputs": [
    {
     "name": "stdout",
     "output_type": "stream",
     "text": [
      "  YearsExperience Salary\n",
      "1             1.1  39343\n",
      "2             1.3  46205\n",
      "3             1.5  37731\n",
      "4             2.0  43525\n",
      "5             2.2  39891\n",
      "6             2.9  56642\n"
     ]
    }
   ],
   "source": [
    "Data = read.csv(\"Data.csv\") \n",
    "print(head(Data)) "
   ]
  },
  {
   "cell_type": "code",
   "execution_count": 7,
   "metadata": {},
   "outputs": [
    {
     "name": "stdout",
     "output_type": "stream",
     "text": [
      "[1] 76003\n"
     ]
    }
   ],
   "source": [
    "mean = mean(Data$Salary) \n",
    "print(mean) "
   ]
  },
  {
   "cell_type": "code",
   "execution_count": 8,
   "metadata": {},
   "outputs": [
    {
     "name": "stdout",
     "output_type": "stream",
     "text": [
      "[1] 76003\n"
     ]
    }
   ],
   "source": [
    "median = median(Data$Salary) \n",
    "print(mean) "
   ]
  },
  {
   "cell_type": "code",
   "execution_count": 9,
   "metadata": {},
   "outputs": [
    {
     "name": "stdout",
     "output_type": "stream",
     "text": [
      " [1]  37731  39343  39891  43525  46205  54445  55794  56642  56957  57081\n",
      "[11]  57189  60150  61111  63218  64445  66029  67938  81363  83088  91738\n",
      "[21]  93940  98273 101302 105582 109431 112635 113812 116969 121872 122391\n"
     ]
    }
   ],
   "source": [
    "library(modeest) \n",
    "mode = mfv(Data$Salary) \n",
    "print(mode) "
   ]
  },
  {
   "cell_type": "code",
   "execution_count": 10,
   "metadata": {},
   "outputs": [
    {
     "data": {
      "text/html": [
       "37731"
      ],
      "text/latex": [
       "37731"
      ],
      "text/markdown": [
       "37731"
      ],
      "text/plain": [
       "[1] 37731"
      ]
     },
     "metadata": {},
     "output_type": "display_data"
    }
   ],
   "source": [
    "min(Data$Salary) "
   ]
  },
  {
   "cell_type": "code",
   "execution_count": 11,
   "metadata": {},
   "outputs": [
    {
     "data": {
      "text/html": [
       "122391"
      ],
      "text/latex": [
       "122391"
      ],
      "text/markdown": [
       "122391"
      ],
      "text/plain": [
       "[1] 122391"
      ]
     },
     "metadata": {},
     "output_type": "display_data"
    }
   ],
   "source": [
    "max(Data$Salary) "
   ]
  },
  {
   "cell_type": "code",
   "execution_count": 12,
   "metadata": {},
   "outputs": [
    {
     "data": {
      "text/html": [
       "<style>\n",
       ".list-inline {list-style: none; margin:0; padding: 0}\n",
       ".list-inline>li {display: inline-block}\n",
       ".list-inline>li:not(:last-child)::after {content: \"\\00b7\"; padding: 0 .5ex}\n",
       "</style>\n",
       "<ol class=list-inline><li>37731</li><li>122391</li></ol>\n"
      ],
      "text/latex": [
       "\\begin{enumerate*}\n",
       "\\item 37731\n",
       "\\item 122391\n",
       "\\end{enumerate*}\n"
      ],
      "text/markdown": [
       "1. 37731\n",
       "2. 122391\n",
       "\n",
       "\n"
      ],
      "text/plain": [
       "[1]  37731 122391"
      ]
     },
     "metadata": {},
     "output_type": "display_data"
    }
   ],
   "source": [
    "range(Data$Salary) "
   ]
  },
  {
   "cell_type": "code",
   "execution_count": 13,
   "metadata": {},
   "outputs": [
    {
     "data": {
      "text/html": [
       "<style>\n",
       ".dl-inline {width: auto; margin:0; padding: 0}\n",
       ".dl-inline>dt, .dl-inline>dd {float: none; width: auto; display: inline-block}\n",
       ".dl-inline>dt::after {content: \":\\0020\"; padding-right: .5ex}\n",
       ".dl-inline>dt:not(:first-of-type) {padding-left: .5ex}\n",
       "</style><dl class=dl-inline><dt>0%</dt><dd>37731</dd><dt>25%</dt><dd>56720.75</dd><dt>50%</dt><dd>65237</dd><dt>75%</dt><dd>100544.75</dd><dt>100%</dt><dd>122391</dd></dl>\n"
      ],
      "text/latex": [
       "\\begin{description*}\n",
       "\\item[0\\textbackslash{}\\%] 37731\n",
       "\\item[25\\textbackslash{}\\%] 56720.75\n",
       "\\item[50\\textbackslash{}\\%] 65237\n",
       "\\item[75\\textbackslash{}\\%] 100544.75\n",
       "\\item[100\\textbackslash{}\\%] 122391\n",
       "\\end{description*}\n"
      ],
      "text/markdown": [
       "0%\n",
       ":   3773125%\n",
       ":   56720.7550%\n",
       ":   6523775%\n",
       ":   100544.75100%\n",
       ":   122391\n",
       "\n"
      ],
      "text/plain": [
       "       0%       25%       50%       75%      100% \n",
       " 37731.00  56720.75  65237.00 100544.75 122391.00 "
      ]
     },
     "metadata": {},
     "output_type": "display_data"
    }
   ],
   "source": [
    "quantile(Data$Salary) "
   ]
  },
  {
   "cell_type": "code",
   "execution_count": 14,
   "metadata": {},
   "outputs": [
    {
     "data": {
      "text/html": [
       "751550960.413793"
      ],
      "text/latex": [
       "751550960.413793"
      ],
      "text/markdown": [
       "751550960.413793"
      ],
      "text/plain": [
       "[1] 751550960"
      ]
     },
     "metadata": {},
     "output_type": "display_data"
    }
   ],
   "source": [
    "var(Data$Salary) "
   ]
  },
  {
   "cell_type": "code",
   "execution_count": 15,
   "metadata": {},
   "outputs": [
    {
     "data": {
      "text/html": [
       "27414.4297845823"
      ],
      "text/latex": [
       "27414.4297845823"
      ],
      "text/markdown": [
       "27414.4297845823"
      ],
      "text/plain": [
       "[1] 27414.43"
      ]
     },
     "metadata": {},
     "output_type": "display_data"
    }
   ],
   "source": [
    "sd(Data$Salary) "
   ]
  },
  {
   "cell_type": "code",
   "execution_count": 16,
   "metadata": {},
   "outputs": [
    {
     "data": {
      "text/plain": [
       "   Min. 1st Qu.  Median    Mean 3rd Qu.    Max. \n",
       "  37731   56721   65237   76003  100545  122391 "
      ]
     },
     "metadata": {},
     "output_type": "display_data"
    }
   ],
   "source": [
    "summary(Data$Salary) "
   ]
  },
  {
   "cell_type": "code",
   "execution_count": 17,
   "metadata": {},
   "outputs": [
    {
     "data": {
      "text/html": [
       "<style>\n",
       ".list-inline {list-style: none; margin:0; padding: 0}\n",
       ".list-inline>li {display: inline-block}\n",
       ".list-inline>li:not(:last-child)::after {content: \"\\00b7\"; padding: 0 .5ex}\n",
       "</style>\n",
       "<ol class=list-inline><li>39343</li><li>46205</li><li>37731</li><li>43525</li><li>39891</li><li>56642</li><li>60150</li><li>54445</li><li>64445</li><li>57189</li><li>63218</li><li>55794</li><li>56957</li><li>57081</li><li>61111</li><li>67938</li><li>66029</li><li>83088</li><li>81363</li><li>93940</li><li>91738</li><li>98273</li><li>101302</li><li>113812</li><li>109431</li><li>105582</li><li>116969</li><li>112635</li><li>122391</li><li>121872</li></ol>\n"
      ],
      "text/latex": [
       "\\begin{enumerate*}\n",
       "\\item 39343\n",
       "\\item 46205\n",
       "\\item 37731\n",
       "\\item 43525\n",
       "\\item 39891\n",
       "\\item 56642\n",
       "\\item 60150\n",
       "\\item 54445\n",
       "\\item 64445\n",
       "\\item 57189\n",
       "\\item 63218\n",
       "\\item 55794\n",
       "\\item 56957\n",
       "\\item 57081\n",
       "\\item 61111\n",
       "\\item 67938\n",
       "\\item 66029\n",
       "\\item 83088\n",
       "\\item 81363\n",
       "\\item 93940\n",
       "\\item 91738\n",
       "\\item 98273\n",
       "\\item 101302\n",
       "\\item 113812\n",
       "\\item 109431\n",
       "\\item 105582\n",
       "\\item 116969\n",
       "\\item 112635\n",
       "\\item 122391\n",
       "\\item 121872\n",
       "\\end{enumerate*}\n"
      ],
      "text/markdown": [
       "1. 39343\n",
       "2. 46205\n",
       "3. 37731\n",
       "4. 43525\n",
       "5. 39891\n",
       "6. 56642\n",
       "7. 60150\n",
       "8. 54445\n",
       "9. 64445\n",
       "10. 57189\n",
       "11. 63218\n",
       "12. 55794\n",
       "13. 56957\n",
       "14. 57081\n",
       "15. 61111\n",
       "16. 67938\n",
       "17. 66029\n",
       "18. 83088\n",
       "19. 81363\n",
       "20. 93940\n",
       "21. 91738\n",
       "22. 98273\n",
       "23. 101302\n",
       "24. 113812\n",
       "25. 109431\n",
       "26. 105582\n",
       "27. 116969\n",
       "28. 112635\n",
       "29. 122391\n",
       "30. 121872\n",
       "\n",
       "\n"
      ],
      "text/plain": [
       " [1]  39343  46205  37731  43525  39891  56642  60150  54445  64445  57189\n",
       "[11]  63218  55794  56957  57081  61111  67938  66029  83088  81363  93940\n",
       "[21]  91738  98273 101302 113812 109431 105582 116969 112635 122391 121872"
      ]
     },
     "metadata": {},
     "output_type": "display_data"
    }
   ],
   "source": [
    "sapply(Data$Salary,mean)"
   ]
  },
  {
   "cell_type": "code",
   "execution_count": 18,
   "metadata": {},
   "outputs": [],
   "source": [
    "library(pastecs)\n",
    "res <- stat.desc(Data[, -5])"
   ]
  },
  {
   "cell_type": "code",
   "execution_count": 19,
   "metadata": {},
   "outputs": [
    {
     "data": {
      "text/html": [
       "<table>\n",
       "<caption>A data.frame: 14 × 2</caption>\n",
       "<thead>\n",
       "\t<tr><th></th><th scope=col>YearsExperience</th><th scope=col>Salary</th></tr>\n",
       "\t<tr><th></th><th scope=col>&lt;dbl&gt;</th><th scope=col>&lt;dbl&gt;</th></tr>\n",
       "</thead>\n",
       "<tbody>\n",
       "\t<tr><th scope=row>nbr.val</th><td> 30.0000000</td><td>3.000000e+01</td></tr>\n",
       "\t<tr><th scope=row>nbr.null</th><td>  0.0000000</td><td>0.000000e+00</td></tr>\n",
       "\t<tr><th scope=row>nbr.na</th><td>  0.0000000</td><td>0.000000e+00</td></tr>\n",
       "\t<tr><th scope=row>min</th><td>  1.1000000</td><td>3.773100e+04</td></tr>\n",
       "\t<tr><th scope=row>max</th><td> 10.5000000</td><td>1.223910e+05</td></tr>\n",
       "\t<tr><th scope=row>range</th><td>  9.4000000</td><td>8.466000e+04</td></tr>\n",
       "\t<tr><th scope=row>sum</th><td>159.4000000</td><td>2.280090e+06</td></tr>\n",
       "\t<tr><th scope=row>median</th><td>  4.7000000</td><td>6.523700e+04</td></tr>\n",
       "\t<tr><th scope=row>mean</th><td>  5.3133333</td><td>7.600300e+04</td></tr>\n",
       "\t<tr><th scope=row>SE.mean</th><td>  0.5181251</td><td>5.005167e+03</td></tr>\n",
       "\t<tr><th scope=row>CI.mean.0.95</th><td>  1.0596849</td><td>1.023672e+04</td></tr>\n",
       "\t<tr><th scope=row>var</th><td>  8.0536092</td><td>7.515510e+08</td></tr>\n",
       "\t<tr><th scope=row>std.dev</th><td>  2.8378882</td><td>2.741443e+04</td></tr>\n",
       "\t<tr><th scope=row>coef.var</th><td>  0.5341069</td><td>3.607019e-01</td></tr>\n",
       "</tbody>\n",
       "</table>\n"
      ],
      "text/latex": [
       "A data.frame: 14 × 2\n",
       "\\begin{tabular}{r|ll}\n",
       "  & YearsExperience & Salary\\\\\n",
       "  & <dbl> & <dbl>\\\\\n",
       "\\hline\n",
       "\tnbr.val &  30.0000000 & 3.000000e+01\\\\\n",
       "\tnbr.null &   0.0000000 & 0.000000e+00\\\\\n",
       "\tnbr.na &   0.0000000 & 0.000000e+00\\\\\n",
       "\tmin &   1.1000000 & 3.773100e+04\\\\\n",
       "\tmax &  10.5000000 & 1.223910e+05\\\\\n",
       "\trange &   9.4000000 & 8.466000e+04\\\\\n",
       "\tsum & 159.4000000 & 2.280090e+06\\\\\n",
       "\tmedian &   4.7000000 & 6.523700e+04\\\\\n",
       "\tmean &   5.3133333 & 7.600300e+04\\\\\n",
       "\tSE.mean &   0.5181251 & 5.005167e+03\\\\\n",
       "\tCI.mean.0.95 &   1.0596849 & 1.023672e+04\\\\\n",
       "\tvar &   8.0536092 & 7.515510e+08\\\\\n",
       "\tstd.dev &   2.8378882 & 2.741443e+04\\\\\n",
       "\tcoef.var &   0.5341069 & 3.607019e-01\\\\\n",
       "\\end{tabular}\n"
      ],
      "text/markdown": [
       "\n",
       "A data.frame: 14 × 2\n",
       "\n",
       "| <!--/--> | YearsExperience &lt;dbl&gt; | Salary &lt;dbl&gt; |\n",
       "|---|---|---|\n",
       "| nbr.val |  30.0000000 | 3.000000e+01 |\n",
       "| nbr.null |   0.0000000 | 0.000000e+00 |\n",
       "| nbr.na |   0.0000000 | 0.000000e+00 |\n",
       "| min |   1.1000000 | 3.773100e+04 |\n",
       "| max |  10.5000000 | 1.223910e+05 |\n",
       "| range |   9.4000000 | 8.466000e+04 |\n",
       "| sum | 159.4000000 | 2.280090e+06 |\n",
       "| median |   4.7000000 | 6.523700e+04 |\n",
       "| mean |   5.3133333 | 7.600300e+04 |\n",
       "| SE.mean |   0.5181251 | 5.005167e+03 |\n",
       "| CI.mean.0.95 |   1.0596849 | 1.023672e+04 |\n",
       "| var |   8.0536092 | 7.515510e+08 |\n",
       "| std.dev |   2.8378882 | 2.741443e+04 |\n",
       "| coef.var |   0.5341069 | 3.607019e-01 |\n",
       "\n"
      ],
      "text/plain": [
       "             YearsExperience Salary      \n",
       "nbr.val       30.0000000     3.000000e+01\n",
       "nbr.null       0.0000000     0.000000e+00\n",
       "nbr.na         0.0000000     0.000000e+00\n",
       "min            1.1000000     3.773100e+04\n",
       "max           10.5000000     1.223910e+05\n",
       "range          9.4000000     8.466000e+04\n",
       "sum          159.4000000     2.280090e+06\n",
       "median         4.7000000     6.523700e+04\n",
       "mean           5.3133333     7.600300e+04\n",
       "SE.mean        0.5181251     5.005167e+03\n",
       "CI.mean.0.95   1.0596849     1.023672e+04\n",
       "var            8.0536092     7.515510e+08\n",
       "std.dev        2.8378882     2.741443e+04\n",
       "coef.var       0.5341069     3.607019e-01"
      ]
     },
     "metadata": {},
     "output_type": "display_data"
    }
   ],
   "source": [
    "res"
   ]
  },
  {
   "cell_type": "code",
   "execution_count": null,
   "metadata": {},
   "outputs": [],
   "source": []
  }
 ],
 "metadata": {
  "kernelspec": {
   "display_name": "R",
   "language": "R",
   "name": "ir"
  },
  "language_info": {
   "codemirror_mode": "r",
   "file_extension": ".r",
   "mimetype": "text/x-r-source",
   "name": "R",
   "pygments_lexer": "r",
   "version": "3.6.3"
  }
 },
 "nbformat": 4,
 "nbformat_minor": 4
}
