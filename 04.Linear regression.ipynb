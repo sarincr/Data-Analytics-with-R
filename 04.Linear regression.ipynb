{
 "cells": [
  {
   "cell_type": "code",
   "execution_count": 1,
   "metadata": {},
   "outputs": [
    {
     "name": "stdout",
     "output_type": "stream",
     "text": [
      "       1 \n",
      "76.22869 \n"
     ]
    }
   ],
   "source": [
    "# The predictor vector.\n",
    "x <- c(151, 174, 138, 186, 128, 136, 179, 163, 152, 131)\n",
    "\n",
    "# The resposne vector.\n",
    "y <- c(63, 81, 56, 91, 47, 57, 76, 72, 62, 48)\n",
    "\n",
    "# Apply the lm() function.\n",
    "relation <- lm(y~x)\n",
    "\n",
    "# Find weight of a person with height 170.\n",
    "a <- data.frame(x = 170)\n",
    "result <-  predict(relation,a)\n",
    "print(result)"
   ]
  },
  {
   "cell_type": "code",
   "execution_count": 2,
   "metadata": {},
   "outputs": [
    {
     "data": {
      "text/html": [
       "<strong>png:</strong> 2"
      ],
      "text/latex": [
       "\\textbf{png:} 2"
      ],
      "text/markdown": [
       "**png:** 2"
      ],
      "text/plain": [
       "png \n",
       "  2 "
      ]
     },
     "metadata": {},
     "output_type": "display_data"
    }
   ],
   "source": [
    "# Create the predictor and response variable.\n",
    "x <- c(151, 174, 138, 186, 128, 136, 179, 163, 152, 131)\n",
    "y <- c(63, 81, 56, 91, 47, 57, 76, 72, 62, 48)\n",
    "relation <- lm(y~x)\n",
    "\n",
    "# Give the chart file a name.\n",
    "png(file = \"linearregression.png\")\n",
    "\n",
    "# Plot the chart.\n",
    "plot(y,x,col = \"blue\",main = \"Height & Weight Regression\",\n",
    "abline(lm(x~y)),cex = 1.3,pch = 16,xlab = \"Weight in Kg\",ylab = \"Height in cm\")\n",
    "\n",
    "# Save the file.\n",
    "dev.off()"
   ]
  },
  {
   "cell_type": "code",
   "execution_count": null,
   "metadata": {},
   "outputs": [],
   "source": []
  }
 ],
 "metadata": {
  "kernelspec": {
   "display_name": "R",
   "language": "R",
   "name": "ir"
  },
  "language_info": {
   "codemirror_mode": "r",
   "file_extension": ".r",
   "mimetype": "text/x-r-source",
   "name": "R",
   "pygments_lexer": "r",
   "version": "3.6.3"
  }
 },
 "nbformat": 4,
 "nbformat_minor": 4
}
